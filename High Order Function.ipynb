{
  "nbformat": 4,
  "nbformat_minor": 0,
  "metadata": {
    "colab": {
      "provenance": [],
      "authorship_tag": "ABX9TyPeXpQm/k6VrRyWN9i+1igg",
      "include_colab_link": true
    },
    "kernelspec": {
      "name": "python3",
      "display_name": "Python 3"
    },
    "language_info": {
      "name": "python"
    }
  },
  "cells": [
    {
      "cell_type": "markdown",
      "metadata": {
        "id": "view-in-github",
        "colab_type": "text"
      },
      "source": [
        "<a href=\"https://colab.research.google.com/github/moonspaceash/Diabetes/blob/main/High%20Order%20Function.ipynb\" target=\"_parent\"><img src=\"https://colab.research.google.com/assets/colab-badge.svg\" alt=\"Open In Colab\"/></a>"
      ]
    },
    {
      "cell_type": "code",
      "execution_count": 1,
      "metadata": {
        "id": "AJ1MteaXkBuk"
      },
      "outputs": [],
      "source": [
        "#High Order Functions are list of this functions which take input of another function as an arguement"
      ]
    },
    {
      "cell_type": "markdown",
      "source": [
        "#Map\n",
        "\n",
        "It takes a function and sequence as the arguments and then returns a list after applying the function to each sequence’s items. Let us consider an example :-"
      ],
      "metadata": {
        "id": "q3B08_fRleyl"
      }
    },
    {
      "cell_type": "markdown",
      "source": [
        "Syntax of Map Function  -  **map(function,  iterable Object)**"
      ],
      "metadata": {
        "id": "LAwFPMkfl-pk"
      }
    },
    {
      "cell_type": "code",
      "source": [
        "x=  map (lambda x: x+2, [1,2,3,4])"
      ],
      "metadata": {
        "id": "a8yf0_hjlfnQ"
      },
      "execution_count": 12,
      "outputs": []
    },
    {
      "cell_type": "code",
      "source": [
        "x\n",
        "#Map return Object"
      ],
      "metadata": {
        "colab": {
          "base_uri": "https://localhost:8080/"
        },
        "id": "bp29BlSslrcT",
        "outputId": "9defc615-4162-496e-d1b7-4e4df9eeb187"
      },
      "execution_count": 13,
      "outputs": [
        {
          "output_type": "execute_result",
          "data": {
            "text/plain": [
              "<map at 0x7fa5c2657550>"
            ]
          },
          "metadata": {},
          "execution_count": 13
        }
      ]
    },
    {
      "cell_type": "code",
      "source": [
        "list(x)"
      ],
      "metadata": {
        "colab": {
          "base_uri": "https://localhost:8080/"
        },
        "id": "L2bZftJElsz0",
        "outputId": "9e84bd7d-f416-4921-a231-33c44e4c297b"
      },
      "execution_count": 14,
      "outputs": [
        {
          "output_type": "execute_result",
          "data": {
            "text/plain": [
              "[3, 4, 5, 6]"
            ]
          },
          "metadata": {},
          "execution_count": 14
        }
      ]
    },
    {
      "cell_type": "markdown",
      "source": [
        "#Filter\n",
        "Filter takes two parameters, the first one is a function and the second one is a sequence. Then it returns an iterator that passed through a function test for those elements function returns True. Let us consider an example, suppose we want to filter out those numbers which are greater than 50 from a given list of numbers.\n"
      ],
      "metadata": {
        "id": "7g86n3MKmKzc"
      }
    },
    {
      "cell_type": "code",
      "source": [
        "numbers = [55, 92, 27, 48, 34, 62, 71, 18, 28, 43] "
      ],
      "metadata": {
        "id": "tA2nWMIxlyj-"
      },
      "execution_count": 15,
      "outputs": []
    },
    {
      "cell_type": "code",
      "source": [
        "def checking(n):\n",
        "  if n>50:\n",
        "    #return False\n",
        "    print('Faulty')\n",
        "  else:\n",
        "    #return True\n",
        "    print('Not Faulty')"
      ],
      "metadata": {
        "id": "O64RY6LsmXNI"
      },
      "execution_count": 20,
      "outputs": []
    },
    {
      "cell_type": "code",
      "source": [
        "def checking_boolear(n):\n",
        "  if n>50:\n",
        "    return False\n",
        "  else:\n",
        "    return True"
      ],
      "metadata": {
        "id": "A3l0y9-amzcK"
      },
      "execution_count": 24,
      "outputs": []
    },
    {
      "cell_type": "code",
      "source": [
        "Y=  filter(checking, numbers)"
      ],
      "metadata": {
        "id": "oytDQgxtme64"
      },
      "execution_count": 21,
      "outputs": []
    },
    {
      "cell_type": "code",
      "source": [
        "Y"
      ],
      "metadata": {
        "colab": {
          "base_uri": "https://localhost:8080/"
        },
        "id": "w1xLlPZOmjr-",
        "outputId": "fddc7cc1-1a15-46f0-fe3d-09925e8df18b"
      },
      "execution_count": 22,
      "outputs": [
        {
          "output_type": "execute_result",
          "data": {
            "text/plain": [
              "<filter at 0x7fa5c268d0c0>"
            ]
          },
          "metadata": {},
          "execution_count": 22
        }
      ]
    },
    {
      "cell_type": "code",
      "source": [
        "list(Y)"
      ],
      "metadata": {
        "colab": {
          "base_uri": "https://localhost:8080/"
        },
        "id": "R9YWl0dUmkuw",
        "outputId": "5960815b-cb56-414e-abd3-379b0e0aa1cc"
      },
      "execution_count": 23,
      "outputs": [
        {
          "output_type": "stream",
          "name": "stdout",
          "text": [
            "Faulty\n",
            "Faulty\n",
            "Not Faulty\n",
            "Not Faulty\n",
            "Not Faulty\n",
            "Faulty\n",
            "Faulty\n",
            "Not Faulty\n",
            "Not Faulty\n",
            "Not Faulty\n"
          ]
        },
        {
          "output_type": "execute_result",
          "data": {
            "text/plain": [
              "[]"
            ]
          },
          "metadata": {},
          "execution_count": 23
        }
      ]
    },
    {
      "cell_type": "code",
      "source": [
        "Z= filter(checking_boolear,numbers)"
      ],
      "metadata": {
        "id": "O8Lvj8MYmmeS"
      },
      "execution_count": 25,
      "outputs": []
    },
    {
      "cell_type": "code",
      "source": [
        "Z"
      ],
      "metadata": {
        "colab": {
          "base_uri": "https://localhost:8080/"
        },
        "id": "jfPDrVQgm7K7",
        "outputId": "557aca89-2661-4612-b4da-fcdc88fd897a"
      },
      "execution_count": 26,
      "outputs": [
        {
          "output_type": "execute_result",
          "data": {
            "text/plain": [
              "<filter at 0x7fa5c268f400>"
            ]
          },
          "metadata": {},
          "execution_count": 26
        }
      ]
    },
    {
      "cell_type": "code",
      "source": [
        "list(Z)"
      ],
      "metadata": {
        "colab": {
          "base_uri": "https://localhost:8080/"
        },
        "id": "5N87_YAQm7sH",
        "outputId": "f9a0dcf1-cb6a-4cc6-cbe8-702425537823"
      },
      "execution_count": 27,
      "outputs": [
        {
          "output_type": "execute_result",
          "data": {
            "text/plain": [
              "[27, 48, 34, 18, 28, 43]"
            ]
          },
          "metadata": {},
          "execution_count": 27
        }
      ]
    },
    {
      "cell_type": "markdown",
      "source": [
        "#Reduce Function\n",
        "It takes a sequence/iterable of input data then applies to the function \n",
        "provided and gives a single result.\n",
        "\n",
        "It is used to reduce an iterable to a single value by applying a specified binary function to the elements in a cumulative way. The binary function should take two arguments and return a single value.\n",
        "\n",
        "From recent Python version you will need to  import reduce library"
      ],
      "metadata": {
        "id": "rfuxBYBpobW4"
      }
    },
    {
      "cell_type": "code",
      "source": [
        "from functools import reduce"
      ],
      "metadata": {
        "id": "KIdtMlbcqZ4p"
      },
      "execution_count": 52,
      "outputs": []
    },
    {
      "cell_type": "code",
      "source": [
        "def  addition_sum(a,b):\n",
        "  return a+b"
      ],
      "metadata": {
        "id": "fplsPXqom8v5"
      },
      "execution_count": 53,
      "outputs": []
    },
    {
      "cell_type": "code",
      "source": [
        "n= map(int, input(\"Enter the List of Number\").split())"
      ],
      "metadata": {
        "colab": {
          "base_uri": "https://localhost:8080/"
        },
        "id": "-VkT1EGDpoVg",
        "outputId": "2c169cb6-c185-4d9b-fc72-adb3a23a4029"
      },
      "execution_count": 54,
      "outputs": [
        {
          "name": "stdout",
          "output_type": "stream",
          "text": [
            "Enter the List of Number1 2 3 4\n"
          ]
        }
      ]
    },
    {
      "cell_type": "code",
      "source": [
        "type(n)"
      ],
      "metadata": {
        "colab": {
          "base_uri": "https://localhost:8080/"
        },
        "id": "pmh5rjA5qBPg",
        "outputId": "85323e23-6c03-4f1c-decb-5562eb7d3f6f"
      },
      "execution_count": 60,
      "outputs": [
        {
          "output_type": "execute_result",
          "data": {
            "text/plain": [
              "map"
            ]
          },
          "metadata": {},
          "execution_count": 60
        }
      ]
    },
    {
      "cell_type": "code",
      "source": [
        "type(list(n))"
      ],
      "metadata": {
        "colab": {
          "base_uri": "https://localhost:8080/"
        },
        "id": "V_cttpDhrWW8",
        "outputId": "0747eeea-b5e1-450a-9da1-a9cd7151c807"
      },
      "execution_count": 59,
      "outputs": [
        {
          "output_type": "execute_result",
          "data": {
            "text/plain": [
              "list"
            ]
          },
          "metadata": {},
          "execution_count": 59
        }
      ]
    },
    {
      "cell_type": "code",
      "source": [
        "reduce(addition_sum,n)"
      ],
      "metadata": {
        "colab": {
          "base_uri": "https://localhost:8080/"
        },
        "id": "6mBV2XldqDPC",
        "outputId": "d096dc1a-0355-4336-a315-7c76d38965e5"
      },
      "execution_count": 56,
      "outputs": [
        {
          "output_type": "execute_result",
          "data": {
            "text/plain": [
              "10"
            ]
          },
          "metadata": {},
          "execution_count": 56
        }
      ]
    },
    {
      "cell_type": "markdown",
      "source": [
        "#List Comprehension\n",
        "List comprehension is nothing but a for loop to append each item in a new list to create a new list from an existing index or a set of elements. The work we have performed using Map, filter, and reduce can also be done using List Comprehension. Hence, the motive to study this is most people prefer list comprehension instead of using Map and filter function because it is easy for some to apply and remember.\n",
        "\n",
        "Syntax:\n",
        "\n",
        "![image.png](data:image/png;base64,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)"
      ],
      "metadata": {
        "id": "H4l4F0_YGGhM"
      }
    },
    {
      "cell_type": "code",
      "source": [
        "#Ideal Way Developer Does\n",
        "li=[]\n",
        "for  i  in  \"Scaler\":\n",
        "  li.append(i)\n",
        "\n",
        "print(li)"
      ],
      "metadata": {
        "colab": {
          "base_uri": "https://localhost:8080/"
        },
        "id": "w3p2oHM3q8gW",
        "outputId": "8612c4a2-85d1-4141-8127-ed796a93d800"
      },
      "execution_count": 61,
      "outputs": [
        {
          "output_type": "stream",
          "name": "stdout",
          "text": [
            "['S', 'c', 'a', 'l', 'e', 'r']\n"
          ]
        }
      ]
    },
    {
      "cell_type": "code",
      "source": [
        "li=[]\n",
        "x=  [li  for li  in  \"Scaler\"]\n",
        "print(x)\n",
        "#List Comprehension Way"
      ],
      "metadata": {
        "colab": {
          "base_uri": "https://localhost:8080/"
        },
        "id": "8QfcEjewHp1D",
        "outputId": "cd8ccfe6-1074-4e80-a3fa-7e91a48a8672"
      },
      "execution_count": 66,
      "outputs": [
        {
          "output_type": "stream",
          "name": "stdout",
          "text": [
            "['S', 'c', 'a', 'l', 'e', 'r']\n"
          ]
        }
      ]
    },
    {
      "cell_type": "code",
      "source": [
        "number_l=[x for x  in range(20)  if x%2==0]"
      ],
      "metadata": {
        "id": "uf8Q-zyjH8NC"
      },
      "execution_count": 68,
      "outputs": []
    },
    {
      "cell_type": "code",
      "source": [
        "number_l"
      ],
      "metadata": {
        "colab": {
          "base_uri": "https://localhost:8080/"
        },
        "id": "hAAW4kuPIpt_",
        "outputId": "3b3e1a45-cd7a-4c73-cc15-2c5fc999bf7a"
      },
      "execution_count": 69,
      "outputs": [
        {
          "output_type": "execute_result",
          "data": {
            "text/plain": [
              "[0, 2, 4, 6, 8, 10, 12, 14, 16, 18]"
            ]
          },
          "metadata": {},
          "execution_count": 69
        }
      ]
    },
    {
      "cell_type": "code",
      "source": [
        "number_double_l=[x for x  in range(20)  if x%2==0 if x%5==0]"
      ],
      "metadata": {
        "id": "65_zfjwnIxAn"
      },
      "execution_count": 73,
      "outputs": []
    },
    {
      "cell_type": "code",
      "source": [
        "number_double_l"
      ],
      "metadata": {
        "colab": {
          "base_uri": "https://localhost:8080/"
        },
        "id": "ENp8xmfTJQ19",
        "outputId": "9b2da1ea-205b-4e44-eeee-59d1f680501f"
      },
      "execution_count": 71,
      "outputs": [
        {
          "output_type": "execute_result",
          "data": {
            "text/plain": [
              "[0, 10]"
            ]
          },
          "metadata": {},
          "execution_count": 71
        }
      ]
    },
    {
      "cell_type": "code",
      "source": [
        "number_ifelse_l=[\"Even\"  if x%2==0  else \"Odd\"  for  x in  range(10)]\n",
        "#If you want  to use if else then use at the start"
      ],
      "metadata": {
        "id": "yhOTwvgkJSMd"
      },
      "execution_count": 78,
      "outputs": []
    },
    {
      "cell_type": "code",
      "source": [
        "number_ifelse_l"
      ],
      "metadata": {
        "colab": {
          "base_uri": "https://localhost:8080/"
        },
        "id": "qsCDGN89JlRB",
        "outputId": "9c4cf58c-507d-4ea4-a155-dd2f5976c3a0"
      },
      "execution_count": 77,
      "outputs": [
        {
          "output_type": "execute_result",
          "data": {
            "text/plain": [
              "['Even', 'Odd', 'Even', 'Odd', 'Even', 'Odd', 'Even', 'Odd', 'Even', 'Odd']"
            ]
          },
          "metadata": {},
          "execution_count": 77
        }
      ]
    },
    {
      "cell_type": "code",
      "source": [],
      "metadata": {
        "id": "pOGdKyvSJnK7"
      },
      "execution_count": null,
      "outputs": []
    }
  ]
}